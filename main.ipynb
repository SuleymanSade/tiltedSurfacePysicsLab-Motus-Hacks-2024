{
 "cells": [
  {
   "cell_type": "code",
   "execution_count": 8,
   "metadata": {
    "vscode": {
     "languageId": "powershell"
    }
   },
   "outputs": [
    {
     "name": "stdout",
     "output_type": "stream",
     "text": [
      "Requirement already satisfied: thorpy in c:\\users\\suley\\anaconda3\\lib\\site-packages (2.1.10)\n",
      "Note: you may need to restart the kernel to use updated packages.\n"
     ]
    }
   ],
   "source": [
    "pip install thorpy"
   ]
  },
  {
   "cell_type": "code",
   "execution_count": 10,
   "metadata": {
    "vscode": {
     "languageId": "powershell"
    }
   },
   "outputs": [
    {
     "name": "stdout",
     "output_type": "stream",
     "text": [
      "Requirement already satisfied: pygame in c:\\users\\suley\\anaconda3\\lib\\site-packages (2.6.1)\n",
      "Note: you may need to restart the kernel to use updated packages.\n"
     ]
    }
   ],
   "source": [
    "pip install pygame"
   ]
  },
  {
   "cell_type": "code",
   "execution_count": 9,
   "metadata": {},
   "outputs": [],
   "source": [
    "import math\n",
    "import pygame\n",
    "import thorpy as tp\n",
    "\n",
    "# Constants\n",
    "SCREEN_SIZE = (1200, 600)\n",
    "LINE_CENTER_COORD = (100,500)\n",
    "LINE_CENTER_X = LINE_CENTER_COORD[0]\n",
    "LINE_CENTER_Y = LINE_CENTER_COORD[1]\n",
    "LINE_X_L = 500\n",
    "SQUARE_SIDE_L = 50\n",
    "\n",
    "pygame.init()\n",
    "\n",
    "surface = pygame.Surface((10, 10))\n",
    "screen = pygame.display.set_mode(SCREEN_SIZE)\n",
    "clock = pygame.time.Clock()\n",
    "tp.init(screen, tp.theme_human)\n",
    "\n",
    "my_button = tp.Button(\"Hello, world.\\nThis button uses the default theme.\")\n",
    "my_button.center_on(screen)\n",
    "theta = tp.SliderWithText(\"Theta(θ)\", 15, 45, 30, 200)\n",
    "theta.set_bottomright(400,50)\n",
    "mass = tp.SliderWithText(\"Mass\", 30, 60, 45, 200)\n",
    "mass.set_topleft(400,100)\n",
    "slider4 = tp.SliderWithText(\"How many games should we play ?\",\n",
    "                                1, 10, 3, #min, max and initial values\n",
    "                                50, \"h\", #length and orientation\n",
    "                                dragger_size=(10,20),\n",
    "                                show_value_on_right_side=True,\n",
    "                                edit=True) #allow to edit value as a text\n",
    "slider5 = tp.SliderWithText(\"Fine tune some number\\n(from -2 to 2)\", -2, 2, 1.5, 200,\n",
    "                                round_decimals=3) #by default, 2 decimals\n",
    "surfaceMaterialsDD = tp.DropDownListButton(\n",
    "    choices= [\"no friction\", \"ice\", \"rocky\"],\n",
    "    title=\"Surface Type\",\n",
    "    generate_shadow= (False, 'auto')\n",
    ")\n",
    "\n",
    "group = tp.Group([theta, mass, slider5, my_button, surfaceMaterialsDD])\n",
    "group.set_topleft(700,50)\n",
    "\n",
    "rect_surface = pygame.Surface((SQUARE_SIDE_L,)*2, pygame.SRCALPHA)\n",
    "rect_surface.fill((120,)*3)\n",
    "\n",
    "def before_gui(): # Main loop, this approach is used because of thorPy library\n",
    "    screen.fill((250,)*3)\n",
    "    \n",
    "    hypotenuse = LINE_X_L*math.cos(theta.get_value()*(math.pi/180))\n",
    "    ending_point_Y = LINE_CENTER_Y - (hypotenuse*math.sin(theta.get_value()*(math.pi/180)))\n",
    "    ending_point_X = LINE_CENTER_X + (hypotenuse*math.cos(theta.get_value()*(math.pi/180)))\n",
    "\n",
    "    \n",
    "    rect_surface_rot = pygame.transform.rotate(rect_surface, theta.get_value())\n",
    "    rect_center = rect_surface_rot.get_rect(center=(ending_point_X - SQUARE_SIDE_L // 2, ending_point_Y - SQUARE_SIDE_L // 2 +(5*(theta.get_value()/15))))  # +(5*(theta.get_value()/15))\n",
    "    \n",
    "    screen.blit(rect_surface_rot, rect_center)\n",
    "\n",
    "    pygame.draw.line(screen, (10,130,10), (0, LINE_CENTER_Y), (LINE_CENTER_X+ LINE_X_L, LINE_CENTER_Y), 10)\n",
    "    pygame.draw.line(screen, (0,0,0), LINE_CENTER_COORD, (ending_point_X, ending_point_Y), 10)\n",
    "    pygame.draw.circle(screen, (165,42,42), LINE_CENTER_COORD, 10)\n",
    "\n",
    "tp.call_before_gui(before_gui) # tells thorpy to call before_gui() before drawing gui.\n",
    "\n",
    "\n",
    "player = group.get_updater().launch(before_gui)\n",
    "\n",
    "pygame.quit()"
   ]
  }
 ],
 "metadata": {
  "kernelspec": {
   "display_name": "base",
   "language": "python",
   "name": "python3"
  },
  "language_info": {
   "codemirror_mode": {
    "name": "ipython",
    "version": 3
   },
   "file_extension": ".py",
   "mimetype": "text/x-python",
   "name": "python",
   "nbconvert_exporter": "python",
   "pygments_lexer": "ipython3",
   "version": "3.12.7"
  }
 },
 "nbformat": 4,
 "nbformat_minor": 2
}
