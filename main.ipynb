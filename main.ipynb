{
 "cells": [
  {
   "cell_type": "code",
   "execution_count": null,
   "metadata": {
    "vscode": {
     "languageId": "powershell"
    }
   },
   "outputs": [],
   "source": [
    "pip install thorpy"
   ]
  },
  {
   "cell_type": "code",
   "execution_count": null,
   "metadata": {
    "vscode": {
     "languageId": "powershell"
    }
   },
   "outputs": [],
   "source": [
    "pip install pygame"
   ]
  },
  {
   "cell_type": "code",
   "execution_count": null,
   "metadata": {},
   "outputs": [],
   "source": [
    "import math\n",
    "import pygame\n",
    "import thorpy as tp\n",
    "\n",
    "# Constants\n",
    "SCREEN_SIZE = (1200, 600)\n",
    "LINE_CENTER_COORD = (100,500)\n",
    "LINE_CENTER_X = LINE_CENTER_COORD[0]\n",
    "LINE_CENTER_Y = LINE_CENTER_COORD[1]\n",
    "LINE_X_L = 500\n",
    "SQUARE_SIDE_L = 50"
   ]
  },
  {
   "cell_type": "code",
   "execution_count": null,
   "metadata": {},
   "outputs": [],
   "source": [
    "\n",
    "\n",
    "pygame.init()\n",
    "\n",
    "pygame.display.set_caption(\"Tilted Surface Lab Simulation\")\n",
    "\n",
    "screen = pygame.display.set_mode(SCREEN_SIZE)\n",
    "clock = pygame.time.Clock()\n",
    "\n",
    "tp.init(screen, tp.theme_human)\n",
    "\n",
    "runButton = tp.Button(\">\")\n",
    "runButton.center_on(screen)\n",
    "theta = tp.SliderWithText(\"Theta(θ)\", 15, 45, 30, 200)\n",
    "theta.set_bottomright(400,50)\n",
    "mass = tp.SliderWithText(\"Mass(kg)\", 10, 20, 15, 200)\n",
    "mass.set_topleft(400,100)\n",
    "\n",
    "view_time = tp.Text(\"Time(s):\")\n",
    "\n",
    "\n",
    "# surfaceMaterialsDD = tp.DropDownListButton(\n",
    "#     choices= [\"no friction\", \"ice\", \"rocky\"],\n",
    "#     title=\"Surface Type\",\n",
    "#     generate_shadow= (False, 'auto')\n",
    "# )\n",
    "\n",
    "\n",
    "group = tp.Group([theta, mass, runButton, view_time])\n",
    "group.set_topleft(700,50)\n",
    "\n",
    "rect_surface = pygame.Surface((SQUARE_SIDE_L,)*2, pygame.SRCALPHA)\n",
    "rect_surface.fill((120,)*3)\n",
    "\n",
    "rectX = 0\n",
    "rectY = 0\n",
    "\n",
    "ending_point_X =0\n",
    "ending_point_Y =0\n",
    "\n",
    "sim_time=0\n",
    "\n",
    "final_time=0\n",
    "\n",
    "def update_pos():\n",
    "    global ending_point_X, ending_point_Y, rectX, rectY\n",
    "\n",
    "    hypotenuse = LINE_X_L #*math.cos(theta.get_value()*(math.pi/180))\n",
    "    ending_point_Y = LINE_CENTER_Y - (hypotenuse*math.sin(theta.get_value()*(math.pi/180)))\n",
    "    ending_point_X = LINE_CENTER_X + (hypotenuse*math.cos(theta.get_value()*(math.pi/180)))\n",
    "    \n",
    "    rectX = ending_point_X\n",
    "    rectY = ending_point_Y\n",
    "                       \n",
    "\n",
    "def start_sim():\n",
    "    global sim_started_bool, sim_time\n",
    "    accel = (mass.get_value()*9.81) * math.sin(theta.get_value()*(math.pi/180))\n",
    "    sim_time =0\n",
    "    print(accel)\n",
    "    sim_started_bool = True\n",
    "    \n",
    "sim_started_bool = False\n",
    "\n",
    "runButton.at_unclick = start_sim\n",
    "\n",
    "def before_gui(): # Main loop, this approach is used because of thorPy library\n",
    "    global ending_point_X, ending_point_Y, rectX, rectY, sim_time, sim_started_bool\n",
    "    \n",
    "    update_pos()\n",
    "    \n",
    "    if sim_started_bool:\n",
    "        sim_time+=1\n",
    "\n",
    "        accel = (mass.get_value()*9.81) * math.sin(theta.get_value()*(math.pi/180))\n",
    "        accel_X = accel * math.cos(theta.get_value()*(math.pi/180))\n",
    "        accel_Y = accel * math.sin(theta.get_value()*(math.pi/180))\n",
    "        \n",
    "        change_x = accel_X * math.pow(sim_time/60, 2)\n",
    "        change_y = accel_Y * math.pow(sim_time/60, 2)\n",
    "        \n",
    "        rectX-=change_x\n",
    "        rectY+=change_y\n",
    "        \n",
    "        view_time.set_text(f'Time(s): {round(sim_time/60, 3)}')\n",
    "        \n",
    "    if(rectX<=100):\n",
    "        sim_started_bool = False\n",
    "        \n",
    "        \n",
    "    screen.fill((250,)*3)\n",
    "    \n",
    "    rect_surface_rot = pygame.transform.rotate(rect_surface, theta.get_value())\n",
    "    rect_center = rect_surface_rot.get_rect(center=(rectX - SQUARE_SIDE_L // 2, rectY - SQUARE_SIDE_L // 2 +(5*(theta.get_value()/15))))  # +(5*(theta.get_value()/15))\n",
    "    \n",
    "    screen.blit(rect_surface_rot, rect_center)\n",
    "\n",
    "    pygame.draw.line(screen, (10,130,10), (0, LINE_CENTER_Y), (LINE_CENTER_X+ LINE_X_L, LINE_CENTER_Y), 10)\n",
    "    pygame.draw.line(screen, (0,0,0), LINE_CENTER_COORD, (ending_point_X, ending_point_Y), 10)\n",
    "    pygame.draw.circle(screen, (165,42,42), LINE_CENTER_COORD, 10)\n",
    "    \n",
    "    clock.tick(60)\n",
    "    \n",
    "tp.call_before_gui(before_gui) # tells thorpy to call before_gui() before drawing gui.\n",
    "\n",
    "player = group.get_updater().launch(before_gui)\n",
    "\n",
    "pygame.quit()"
   ]
  }
 ],
 "metadata": {
  "kernelspec": {
   "display_name": "base",
   "language": "python",
   "name": "python3"
  },
  "language_info": {
   "codemirror_mode": {
    "name": "ipython",
    "version": 3
   },
   "file_extension": ".py",
   "mimetype": "text/x-python",
   "name": "python",
   "nbconvert_exporter": "python",
   "pygments_lexer": "ipython3",
   "version": "3.12.7"
  }
 },
 "nbformat": 4,
 "nbformat_minor": 2
}
